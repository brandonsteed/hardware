{
 "cells": [
  {
   "cell_type": "code",
   "execution_count": 1,
   "metadata": {},
   "outputs": [],
   "source": [
    "from PIL import Image\n",
    "import os, sys\n",
    "import numpy as np\n",
    "from sklearn.model_selection import train_test_split"
   ]
  },
  {
   "cell_type": "code",
   "execution_count": 2,
   "metadata": {},
   "outputs": [],
   "source": [
    "path = \"/Users/Stacy Steed/Data/images/cam-connector/\"\n",
    "dirs = os.listdir(path)\n",
    "\n",
    "def resize():\n",
    "    for item in dirs:\n",
    "        if os.path.isfile(path+item):\n",
    "            im = Image.open(path+item)\n",
    "            f, e = os.path.splitext(path+item)\n",
    "            imResize = im.resize((28,28), Image.ANTIALIAS)\n",
    "            imResize.save(f + '.jpg', 'JPEG', quality=90)\n",
    "\n",
    "resize()"
   ]
  },
  {
   "cell_type": "code",
   "execution_count": 3,
   "metadata": {},
   "outputs": [],
   "source": [
    "read = lambda imname: np.asarray(Image.open(imname).convert(\"L\"))\n",
    "\n",
    "cc = [read(os.path.join(path, filename)) for filename in os.listdir(path)]\n",
    "cc_array = np.array(cc, dtype='uint8')"
   ]
  },
  {
   "cell_type": "code",
   "execution_count": 4,
   "metadata": {},
   "outputs": [
    {
     "data": {
      "text/plain": [
       "array([[[255, 255, 253, ..., 255, 255, 255],\n",
       "        [252, 255, 255, ..., 255, 255, 255],\n",
       "        [254, 255, 255, ..., 255, 255, 255],\n",
       "        ...,\n",
       "        [255, 252, 255, ..., 255, 255, 255],\n",
       "        [255, 253, 255, ..., 255, 255, 255],\n",
       "        [255, 255, 255, ..., 255, 255, 255]],\n",
       "\n",
       "       [[255, 255, 252, ..., 255, 255, 255],\n",
       "        [249, 254, 255, ..., 255, 255, 255],\n",
       "        [252, 255, 255, ..., 255, 255, 255],\n",
       "        ...,\n",
       "        [253, 250, 255, ..., 255, 255, 255],\n",
       "        [255, 252, 255, ..., 255, 255, 255],\n",
       "        [255, 255, 253, ..., 255, 255, 255]],\n",
       "\n",
       "       [[252, 254, 255, ..., 255, 254, 254],\n",
       "        [251, 254, 255, ..., 255, 254, 254],\n",
       "        [255, 254, 253, ..., 255, 255, 254],\n",
       "        ...,\n",
       "        [254, 254, 254, ..., 255, 255, 254],\n",
       "        [254, 254, 254, ..., 255, 255, 255],\n",
       "        [255, 255, 255, ..., 255, 255, 255]],\n",
       "\n",
       "       ...,\n",
       "\n",
       "       [[  0,   0,   0, ...,   0,   0,   0],\n",
       "        [  0,   0,   0, ...,   0,   0,   0],\n",
       "        [  0,   0,   0, ...,   0,   0,   0],\n",
       "        ...,\n",
       "        [  0,   0,   0, ...,   0,   0,   0],\n",
       "        [  0,   0,   0, ...,   0,   0,   0],\n",
       "        [  0,   0,   0, ...,   0,   0,   0]],\n",
       "\n",
       "       [[  0,   0,   0, ...,   0,   0,   0],\n",
       "        [  0,   0,   0, ...,   0,   0,   0],\n",
       "        [  0,   0,   0, ...,   0,   0,   0],\n",
       "        ...,\n",
       "        [  0,   0,   0, ...,   0,   0,   0],\n",
       "        [  0,   0,   0, ...,   0,   0,   0],\n",
       "        [  0,   0,   0, ...,   0,   0,   0]],\n",
       "\n",
       "       [[  0,   0,   0, ...,   0,   0,   0],\n",
       "        [  0,   0,   0, ...,   0,   0,   0],\n",
       "        [  0,   0,   0, ...,   0,   0,   0],\n",
       "        ...,\n",
       "        [  0,   0,   0, ...,   0,   0,   0],\n",
       "        [  0,   0,   0, ...,   0,   0,   0],\n",
       "        [  0,   0,   0, ...,   0,   0,   0]]], dtype=uint8)"
      ]
     },
     "execution_count": 4,
     "metadata": {},
     "output_type": "execute_result"
    }
   ],
   "source": [
    "cc_array"
   ]
  },
  {
   "cell_type": "code",
   "execution_count": 5,
   "metadata": {},
   "outputs": [
    {
     "data": {
      "text/plain": [
       "946"
      ]
     },
     "execution_count": 5,
     "metadata": {},
     "output_type": "execute_result"
    }
   ],
   "source": [
    "len(cc_array)"
   ]
  },
  {
   "cell_type": "code",
   "execution_count": 6,
   "metadata": {},
   "outputs": [],
   "source": [
    "cc_labels = np.linspace(0, 0, 946, dtype='uint8')"
   ]
  },
  {
   "cell_type": "code",
   "execution_count": 7,
   "metadata": {},
   "outputs": [],
   "source": [
    "path = \"/Users/Stacy Steed/Data/images/anchor-screw/\"\n",
    "dirs = os.listdir(path)\n",
    "\n",
    "def resize():\n",
    "    for item in dirs:\n",
    "        if os.path.isfile(path+item):\n",
    "            im = Image.open(path+item)\n",
    "            f, e = os.path.splitext(path+item)\n",
    "            imResize = im.resize((28,28), Image.ANTIALIAS)\n",
    "            imResize.save(f + '.jpg', 'JPEG', quality=90)\n",
    "\n",
    "resize()"
   ]
  },
  {
   "cell_type": "code",
   "execution_count": 8,
   "metadata": {},
   "outputs": [],
   "source": [
    "anch = [read(os.path.join(path, filename)) for filename in os.listdir(path)]\n",
    "anch_array = np.array(anch, dtype='uint8')"
   ]
  },
  {
   "cell_type": "code",
   "execution_count": 9,
   "metadata": {},
   "outputs": [
    {
     "data": {
      "text/plain": [
       "array([[[254, 255, 255, ..., 255, 255, 255],\n",
       "        [254, 255, 255, ..., 255, 255, 255],\n",
       "        [255, 255, 255, ..., 255, 255, 255],\n",
       "        ...,\n",
       "        [255, 255, 255, ..., 255, 255, 255],\n",
       "        [255, 255, 255, ..., 255, 255, 255],\n",
       "        [255, 255, 255, ..., 255, 255, 255]],\n",
       "\n",
       "       [[254, 254, 255, ..., 254, 255, 255],\n",
       "        [254, 254, 255, ..., 254, 255, 255],\n",
       "        [254, 254, 255, ..., 254, 255, 255],\n",
       "        ...,\n",
       "        [255, 255, 255, ..., 255, 255, 255],\n",
       "        [255, 255, 255, ..., 255, 255, 255],\n",
       "        [255, 255, 255, ..., 255, 255, 255]],\n",
       "\n",
       "       [[254, 254, 254, ..., 254, 255, 255],\n",
       "        [254, 254, 254, ..., 254, 255, 255],\n",
       "        [254, 254, 254, ..., 254, 255, 255],\n",
       "        ...,\n",
       "        [255, 255, 255, ..., 255, 255, 255],\n",
       "        [254, 255, 254, ..., 255, 255, 255],\n",
       "        [254, 255, 254, ..., 255, 255, 255]],\n",
       "\n",
       "       ...,\n",
       "\n",
       "       [[161, 159, 158, ..., 141, 137, 134],\n",
       "        [160, 159, 157, ..., 137, 133, 130],\n",
       "        [159, 157, 156, ..., 132, 129, 127],\n",
       "        ...,\n",
       "        [208, 208, 208, ..., 142, 142, 140],\n",
       "        [202, 202, 199, ..., 136, 138, 136],\n",
       "        [200, 198, 197, ..., 133, 134, 134]],\n",
       "\n",
       "       [[244, 244, 244, ..., 201, 200, 199],\n",
       "        [242, 241, 240, ..., 201, 200, 199],\n",
       "        [241, 240, 238, ..., 199, 198, 197],\n",
       "        ...,\n",
       "        [205, 203, 199, ..., 163, 162, 159],\n",
       "        [205, 203, 200, ..., 160, 157, 153],\n",
       "        [205, 203, 200, ..., 159, 154, 149]],\n",
       "\n",
       "       [[254, 255, 255, ..., 254, 255, 255],\n",
       "        [251, 252, 254, ..., 254, 255, 255],\n",
       "        [255, 253, 252, ..., 254, 255, 255],\n",
       "        ...,\n",
       "        [254, 254, 254, ..., 254, 254, 254],\n",
       "        [255, 255, 255, ..., 254, 254, 254],\n",
       "        [255, 255, 255, ..., 254, 254, 255]]], dtype=uint8)"
      ]
     },
     "execution_count": 9,
     "metadata": {},
     "output_type": "execute_result"
    }
   ],
   "source": [
    "anch_array"
   ]
  },
  {
   "cell_type": "code",
   "execution_count": 10,
   "metadata": {},
   "outputs": [
    {
     "data": {
      "text/plain": [
       "1019"
      ]
     },
     "execution_count": 10,
     "metadata": {},
     "output_type": "execute_result"
    }
   ],
   "source": [
    "len(anch_array)"
   ]
  },
  {
   "cell_type": "code",
   "execution_count": 11,
   "metadata": {},
   "outputs": [],
   "source": [
    "anch_labels = np.linspace(1, 1, 1019, dtype='uint8')"
   ]
  },
  {
   "cell_type": "code",
   "execution_count": 12,
   "metadata": {},
   "outputs": [],
   "source": [
    "path = \"/Users/Stacy Steed/Data/images/eye-bolt/\"\n",
    "dirs = os.listdir(path)\n",
    "\n",
    "def resize():\n",
    "    for item in dirs:\n",
    "        if os.path.isfile(path+item):\n",
    "            im = Image.open(path+item)\n",
    "            f, e = os.path.splitext(path+item)\n",
    "            imResize = im.resize((28,28), Image.ANTIALIAS)\n",
    "            imResize.save(f + '.jpg', 'JPEG', quality=90)\n",
    "\n",
    "resize()"
   ]
  },
  {
   "cell_type": "code",
   "execution_count": 13,
   "metadata": {},
   "outputs": [],
   "source": [
    "eb = [read(os.path.join(path, filename)) for filename in os.listdir(path)]\n",
    "eb_array = np.array(eb, dtype='uint8')"
   ]
  },
  {
   "cell_type": "code",
   "execution_count": 14,
   "metadata": {},
   "outputs": [
    {
     "data": {
      "text/plain": [
       "array([[[253, 254, 254, ..., 254, 254, 254],\n",
       "        [254, 252, 251, ..., 255, 255, 255],\n",
       "        [255, 255, 255, ..., 255, 255, 255],\n",
       "        ...,\n",
       "        [254, 254, 254, ..., 255, 255, 255],\n",
       "        [254, 254, 254, ..., 255, 255, 255],\n",
       "        [255, 255, 255, ..., 255, 255, 255]],\n",
       "\n",
       "       [[250, 254, 254, ..., 254, 254, 254],\n",
       "        [254, 254, 254, ..., 255, 255, 255],\n",
       "        [253, 252, 253, ..., 255, 255, 255],\n",
       "        ...,\n",
       "        [255, 255, 255, ..., 255, 255, 255],\n",
       "        [255, 255, 255, ..., 255, 255, 255],\n",
       "        [255, 255, 255, ..., 255, 255, 255]],\n",
       "\n",
       "       [[253, 254, 254, ..., 254, 254, 254],\n",
       "        [254, 252, 251, ..., 255, 255, 255],\n",
       "        [255, 255, 255, ..., 255, 255, 255],\n",
       "        ...,\n",
       "        [254, 254, 254, ..., 255, 255, 255],\n",
       "        [254, 254, 254, ..., 255, 255, 255],\n",
       "        [255, 255, 255, ..., 255, 255, 255]],\n",
       "\n",
       "       ...,\n",
       "\n",
       "       [[254, 254, 254, ..., 254, 254, 254],\n",
       "        [253, 254, 254, ..., 254, 254, 254],\n",
       "        [253, 254, 254, ..., 255, 255, 255],\n",
       "        ...,\n",
       "        [254, 255, 255, ..., 255, 255, 255],\n",
       "        [254, 254, 255, ..., 255, 255, 255],\n",
       "        [254, 254, 254, ..., 255, 255, 255]],\n",
       "\n",
       "       [[255, 255, 255, ..., 255, 255, 255],\n",
       "        [255, 255, 255, ..., 255, 255, 255],\n",
       "        [255, 255, 255, ..., 255, 255, 255],\n",
       "        ...,\n",
       "        [255, 255, 255, ..., 255, 255, 255],\n",
       "        [255, 255, 255, ..., 255, 255, 255],\n",
       "        [255, 255, 255, ..., 255, 255, 255]],\n",
       "\n",
       "       [[255, 255, 255, ..., 254, 254, 254],\n",
       "        [255, 255, 255, ..., 255, 254, 254],\n",
       "        [255, 255, 255, ..., 255, 255, 254],\n",
       "        ...,\n",
       "        [254, 254, 254, ..., 255, 255, 255],\n",
       "        [254, 254, 254, ..., 255, 255, 255],\n",
       "        [254, 254, 254, ..., 255, 255, 255]]], dtype=uint8)"
      ]
     },
     "execution_count": 14,
     "metadata": {},
     "output_type": "execute_result"
    }
   ],
   "source": [
    "eb_array"
   ]
  },
  {
   "cell_type": "code",
   "execution_count": 15,
   "metadata": {},
   "outputs": [
    {
     "data": {
      "text/plain": [
       "1000"
      ]
     },
     "execution_count": 15,
     "metadata": {},
     "output_type": "execute_result"
    }
   ],
   "source": [
    "len(eb_array)"
   ]
  },
  {
   "cell_type": "code",
   "execution_count": 16,
   "metadata": {},
   "outputs": [],
   "source": [
    "eb_labels = np.linspace(2, 2, 1000, dtype='uint8')"
   ]
  },
  {
   "cell_type": "code",
   "execution_count": 17,
   "metadata": {},
   "outputs": [],
   "source": [
    "path = \"/Users/Stacy Steed/Data/images/extruded-u-nut/\"\n",
    "dirs = os.listdir(path)\n",
    "\n",
    "def resize():\n",
    "    for item in dirs:\n",
    "        if os.path.isfile(path+item):\n",
    "            im = Image.open(path+item)\n",
    "            f, e = os.path.splitext(path+item)\n",
    "            imResize = im.resize((28,28), Image.ANTIALIAS)\n",
    "            imResize.save(f + '.jpg', 'JPEG', quality=90)\n",
    "\n",
    "resize()"
   ]
  },
  {
   "cell_type": "code",
   "execution_count": 18,
   "metadata": {},
   "outputs": [],
   "source": [
    "un = [read(os.path.join(path, filename)) for filename in os.listdir(path)]\n",
    "un_array = np.array(un, dtype='uint8')"
   ]
  },
  {
   "cell_type": "code",
   "execution_count": 19,
   "metadata": {},
   "outputs": [
    {
     "data": {
      "text/plain": [
       "array([[[255, 255, 255, ..., 255, 255, 255],\n",
       "        [255, 255, 255, ..., 255, 255, 255],\n",
       "        [255, 255, 255, ..., 255, 255, 255],\n",
       "        ...,\n",
       "        [255, 255, 255, ..., 255, 255, 255],\n",
       "        [255, 255, 255, ..., 255, 255, 255],\n",
       "        [255, 255, 255, ..., 255, 255, 255]],\n",
       "\n",
       "       [[254, 254, 254, ..., 253, 253, 253],\n",
       "        [254, 254, 254, ..., 253, 253, 253],\n",
       "        [254, 254, 254, ..., 255, 254, 254],\n",
       "        ...,\n",
       "        [254, 254, 254, ..., 253, 254, 254],\n",
       "        [254, 254, 254, ..., 254, 254, 254],\n",
       "        [254, 254, 254, ..., 255, 255, 255]],\n",
       "\n",
       "       [[248, 249, 255, ..., 255, 252, 243],\n",
       "        [255, 249, 252, ..., 253, 255, 255],\n",
       "        [247, 251, 255, ..., 244, 255, 255],\n",
       "        ...,\n",
       "        [255, 255, 255, ..., 255, 255, 255],\n",
       "        [255, 255, 255, ..., 255, 255, 255],\n",
       "        [255, 255, 255, ..., 255, 255, 255]],\n",
       "\n",
       "       ...,\n",
       "\n",
       "       [[ 99, 104, 102, ..., 150, 151, 153],\n",
       "        [ 99, 100,  98, ..., 153, 156, 161],\n",
       "        [ 94,  98,  98, ..., 156, 162, 168],\n",
       "        ...,\n",
       "        [140, 132, 126, ..., 236, 206, 186],\n",
       "        [136, 141, 130, ..., 224, 178, 188],\n",
       "        [114, 148, 142, ..., 192, 177, 203]],\n",
       "\n",
       "       [[103, 107, 103, ..., 142, 146, 148],\n",
       "        [ 93,  99, 103, ..., 140, 145, 148],\n",
       "        [ 93,  94,  98, ..., 147, 153, 157],\n",
       "        ...,\n",
       "        [123, 125, 127, ..., 220, 187, 185],\n",
       "        [124, 125, 129, ..., 204, 184, 203],\n",
       "        [124, 123, 128, ..., 168, 204, 206]],\n",
       "\n",
       "       [[104, 102,  93, ..., 140, 144, 147],\n",
       "        [ 97, 103, 103, ..., 143, 146, 147],\n",
       "        [ 93,  98, 100, ..., 145, 149, 151],\n",
       "        ...,\n",
       "        [120, 127, 129, ..., 214, 186, 206],\n",
       "        [122, 129, 133, ..., 203, 174, 220],\n",
       "        [125, 126, 132, ..., 183, 197, 214]]], dtype=uint8)"
      ]
     },
     "execution_count": 19,
     "metadata": {},
     "output_type": "execute_result"
    }
   ],
   "source": [
    "un_array"
   ]
  },
  {
   "cell_type": "code",
   "execution_count": 20,
   "metadata": {},
   "outputs": [
    {
     "data": {
      "text/plain": [
       "1057"
      ]
     },
     "execution_count": 20,
     "metadata": {},
     "output_type": "execute_result"
    }
   ],
   "source": [
    "len(un_array)"
   ]
  },
  {
   "cell_type": "code",
   "execution_count": 21,
   "metadata": {},
   "outputs": [],
   "source": [
    "un_labels = np.linspace(3, 3, 1057, dtype='uint8')"
   ]
  },
  {
   "cell_type": "code",
   "execution_count": 22,
   "metadata": {},
   "outputs": [],
   "source": [
    "path = \"/Users/Stacy Steed/Data/images/jack-nut/\"\n",
    "dirs = os.listdir(path)\n",
    "\n",
    "def resize():\n",
    "    for item in dirs:\n",
    "        if os.path.isfile(path+item):\n",
    "            im = Image.open(path+item)\n",
    "            f, e = os.path.splitext(path+item)\n",
    "            imResize = im.resize((28,28), Image.ANTIALIAS)\n",
    "            imResize.save(f + '.jpg', 'JPEG', quality=90)\n",
    "\n",
    "resize()"
   ]
  },
  {
   "cell_type": "code",
   "execution_count": 23,
   "metadata": {},
   "outputs": [],
   "source": [
    "jn = [read(os.path.join(path, filename)) for filename in os.listdir(path)]\n",
    "jn_array = np.array(jn, dtype='uint8')"
   ]
  },
  {
   "cell_type": "code",
   "execution_count": 24,
   "metadata": {},
   "outputs": [
    {
     "data": {
      "text/plain": [
       "array([[[205, 205, 203, ..., 210, 211, 211],\n",
       "        [205, 204, 203, ..., 210, 211, 211],\n",
       "        [204, 203, 201, ..., 210, 211, 211],\n",
       "        ...,\n",
       "        [191, 192, 193, ..., 207, 208, 207],\n",
       "        [190, 191, 192, ..., 207, 208, 207],\n",
       "        [190, 191, 192, ..., 207, 208, 207]],\n",
       "\n",
       "       [[207, 206, 206, ..., 212, 213, 213],\n",
       "        [207, 207, 206, ..., 212, 213, 213],\n",
       "        [206, 206, 206, ..., 212, 213, 213],\n",
       "        ...,\n",
       "        [194, 194, 195, ..., 210, 210, 211],\n",
       "        [193, 193, 194, ..., 210, 210, 211],\n",
       "        [192, 193, 194, ..., 210, 210, 211]],\n",
       "\n",
       "       [[206, 206, 205, ..., 214, 214, 215],\n",
       "        [206, 206, 205, ..., 214, 215, 215],\n",
       "        [205, 205, 205, ..., 214, 215, 215],\n",
       "        ...,\n",
       "        [197, 197, 197, ..., 212, 212, 213],\n",
       "        [195, 195, 195, ..., 212, 212, 213],\n",
       "        [194, 194, 195, ..., 212, 212, 213]],\n",
       "\n",
       "       ...,\n",
       "\n",
       "       [[201, 202, 202, ..., 204, 207, 209],\n",
       "        [199, 199, 198, ..., 202, 205, 207],\n",
       "        [196, 195, 193, ..., 201, 204, 206],\n",
       "        ...,\n",
       "        [181, 181, 181, ..., 201, 204, 205],\n",
       "        [179, 180, 179, ..., 202, 204, 205],\n",
       "        [178, 178, 179, ..., 204, 205, 206]],\n",
       "\n",
       "       [[199, 200, 201, ..., 202, 205, 207],\n",
       "        [197, 198, 198, ..., 201, 203, 205],\n",
       "        [195, 194, 194, ..., 200, 203, 204],\n",
       "        ...,\n",
       "        [180, 179, 180, ..., 200, 202, 203],\n",
       "        [179, 179, 179, ..., 201, 202, 203],\n",
       "        [178, 178, 179, ..., 202, 204, 205]],\n",
       "\n",
       "       [[200, 201, 201, ..., 202, 205, 208],\n",
       "        [198, 198, 198, ..., 202, 204, 207],\n",
       "        [196, 196, 194, ..., 201, 205, 206],\n",
       "        ...,\n",
       "        [180, 180, 181, ..., 201, 203, 203],\n",
       "        [179, 180, 180, ..., 201, 203, 203],\n",
       "        [178, 179, 180, ..., 202, 204, 204]]], dtype=uint8)"
      ]
     },
     "execution_count": 24,
     "metadata": {},
     "output_type": "execute_result"
    }
   ],
   "source": [
    "jn_array"
   ]
  },
  {
   "cell_type": "code",
   "execution_count": 25,
   "metadata": {},
   "outputs": [
    {
     "data": {
      "text/plain": [
       "1168"
      ]
     },
     "execution_count": 25,
     "metadata": {},
     "output_type": "execute_result"
    }
   ],
   "source": [
    "len(jn_array)"
   ]
  },
  {
   "cell_type": "code",
   "execution_count": 26,
   "metadata": {},
   "outputs": [],
   "source": [
    "jn_labels = np.linspace(4, 4, 1168, dtype='uint8')"
   ]
  },
  {
   "cell_type": "code",
   "execution_count": 27,
   "metadata": {},
   "outputs": [],
   "source": [
    "x = np.concatenate((cc_array, anch_array, eb_array, un_array, jn_array), axis=0)"
   ]
  },
  {
   "cell_type": "code",
   "execution_count": 28,
   "metadata": {},
   "outputs": [],
   "source": [
    "y = np.concatenate((cc_labels, anch_labels, eb_labels, un_labels, jn_labels), axis=0)"
   ]
  },
  {
   "cell_type": "code",
   "execution_count": 29,
   "metadata": {},
   "outputs": [],
   "source": [
    "# Use train_test_split to create the necessary training and test groups\n",
    "X_train, x2, y_train, y2 = train_test_split(x, y, test_size=0.36)\n",
    "X_val, X_test, y_val, y_test = train_test_split(x2, y2, test_size=0.5)"
   ]
  },
  {
   "cell_type": "code",
   "execution_count": 30,
   "metadata": {},
   "outputs": [
    {
     "name": "stdout",
     "output_type": "stream",
     "text": [
      "3321\n",
      "935\n",
      "934\n",
      "3321\n",
      "935\n",
      "934\n"
     ]
    }
   ],
   "source": [
    "print(len(X_train))\n",
    "print(len(X_test))\n",
    "print(len(X_val))\n",
    "print(len(y_train))\n",
    "print(len(y_test))\n",
    "print(len(y_val))"
   ]
  },
  {
   "cell_type": "code",
   "execution_count": 31,
   "metadata": {},
   "outputs": [],
   "source": [
    "np.save('X-train.npy', X_train)\n",
    "np.save('y-train.npy', y_train)\n",
    "np.save('X-test.npy', X_test)\n",
    "np.save('y-test.npy', y_test)\n",
    "np.save('X-val.npy', X_val)\n",
    "np.save('y-val.npy', y_val)"
   ]
  }
 ],
 "metadata": {
  "kernelspec": {
   "display_name": "Python 3",
   "language": "python",
   "name": "python3"
  },
  "language_info": {
   "codemirror_mode": {
    "name": "ipython",
    "version": 3
   },
   "file_extension": ".py",
   "mimetype": "text/x-python",
   "name": "python",
   "nbconvert_exporter": "python",
   "pygments_lexer": "ipython3",
   "version": "3.6.5"
  }
 },
 "nbformat": 4,
 "nbformat_minor": 2
}

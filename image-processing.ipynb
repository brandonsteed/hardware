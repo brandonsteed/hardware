{
 "cells": [
  {
   "cell_type": "code",
   "execution_count": 1,
   "metadata": {},
   "outputs": [],
   "source": [
    "from PIL import Image\n",
    "import os, sys\n",
    "import numpy as np\n",
    "from sklearn.model_selection import train_test_split"
   ]
  },
  {
   "cell_type": "code",
   "execution_count": 2,
   "metadata": {},
   "outputs": [],
   "source": [
    "path = \"/Users/Stacy Steed/Data/images/cam-connector/\"\n",
    "dirs = os.listdir(path)\n",
    "\n",
    "def resize():\n",
    "    for item in dirs:\n",
    "        if os.path.isfile(path+item):\n",
    "            im = Image.open(path+item)\n",
    "            f, e = os.path.splitext(path+item)\n",
    "            imResize = im.resize((28,28), Image.ANTIALIAS)\n",
    "            imResize.save(f + '.jpg', 'JPEG', quality=90)\n",
    "\n",
    "resize()"
   ]
  },
  {
   "cell_type": "code",
   "execution_count": 3,
   "metadata": {},
   "outputs": [],
   "source": [
    "read = lambda imname: np.asarray(Image.open(imname).convert(\"L\"))\n",
    "\n",
    "cc = [read(os.path.join(path, filename)) for filename in os.listdir(path)]\n",
    "cc_array = np.array(cc, dtype='uint8')"
   ]
  },
  {
   "cell_type": "code",
   "execution_count": 4,
   "metadata": {},
   "outputs": [
    {
     "data": {
      "text/plain": [
       "array([[[255, 254, 251, ..., 255, 255, 255],\n",
       "        [251, 255, 255, ..., 255, 255, 255],\n",
       "        [253, 255, 255, ..., 255, 255, 255],\n",
       "        ...,\n",
       "        [254, 248, 253, ..., 255, 255, 255],\n",
       "        [255, 250, 252, ..., 255, 255, 255],\n",
       "        [255, 254, 254, ..., 255, 255, 255]],\n",
       "\n",
       "       [[255, 255, 252, ..., 255, 255, 255],\n",
       "        [248, 253, 254, ..., 255, 255, 255],\n",
       "        [251, 255, 255, ..., 255, 255, 255],\n",
       "        ...,\n",
       "        [253, 247, 251, ..., 255, 255, 255],\n",
       "        [255, 250, 251, ..., 255, 255, 255],\n",
       "        [255, 254, 254, ..., 255, 255, 255]],\n",
       "\n",
       "       [[251, 254, 255, ..., 255, 255, 254],\n",
       "        [251, 253, 255, ..., 255, 255, 254],\n",
       "        [255, 253, 252, ..., 255, 255, 255],\n",
       "        ...,\n",
       "        [254, 254, 254, ..., 254, 254, 254],\n",
       "        [254, 254, 254, ..., 255, 255, 255],\n",
       "        [255, 255, 255, ..., 255, 255, 255]],\n",
       "\n",
       "       ...,\n",
       "\n",
       "       [[253, 253, 253, ..., 253, 253, 252],\n",
       "        [253, 253, 253, ..., 253, 253, 252],\n",
       "        [253, 253, 253, ..., 253, 253, 252],\n",
       "        ...,\n",
       "        [253, 253, 253, ..., 253, 253, 253],\n",
       "        [253, 253, 253, ..., 253, 253, 253],\n",
       "        [252, 252, 253, ..., 253, 253, 253]],\n",
       "\n",
       "       [[253, 253, 253, ..., 253, 253, 253],\n",
       "        [253, 253, 253, ..., 253, 253, 253],\n",
       "        [253, 253, 253, ..., 253, 253, 253],\n",
       "        ...,\n",
       "        [253, 253, 253, ..., 253, 253, 254],\n",
       "        [253, 253, 253, ..., 253, 253, 254],\n",
       "        [253, 253, 253, ..., 253, 253, 254]],\n",
       "\n",
       "       [[253, 254, 254, ..., 253, 253, 253],\n",
       "        [250, 253, 252, ..., 252, 252, 252],\n",
       "        [255, 249, 250, ..., 253, 253, 253],\n",
       "        ...,\n",
       "        [253, 253, 254, ..., 254, 254, 254],\n",
       "        [253, 253, 254, ..., 254, 254, 254],\n",
       "        [253, 253, 254, ..., 254, 254, 254]]], dtype=uint8)"
      ]
     },
     "execution_count": 4,
     "metadata": {},
     "output_type": "execute_result"
    }
   ],
   "source": [
    "cc_array"
   ]
  },
  {
   "cell_type": "code",
   "execution_count": 5,
   "metadata": {},
   "outputs": [
    {
     "data": {
      "text/plain": [
       "948"
      ]
     },
     "execution_count": 5,
     "metadata": {},
     "output_type": "execute_result"
    }
   ],
   "source": [
    "len(cc_array)"
   ]
  },
  {
   "cell_type": "code",
   "execution_count": 6,
   "metadata": {},
   "outputs": [],
   "source": [
    "cc_labels = np.linspace(0, 0, 948, dtype='uint8')"
   ]
  },
  {
   "cell_type": "code",
   "execution_count": 7,
   "metadata": {},
   "outputs": [],
   "source": [
    "path = \"/Users/Stacy Steed/Data/images/anchor-screw/\"\n",
    "dirs = os.listdir(path)\n",
    "\n",
    "def resize():\n",
    "    for item in dirs:\n",
    "        if os.path.isfile(path+item):\n",
    "            im = Image.open(path+item)\n",
    "            f, e = os.path.splitext(path+item)\n",
    "            imResize = im.resize((28,28), Image.ANTIALIAS)\n",
    "            imResize.save(f + '.jpg', 'JPEG', quality=90)\n",
    "\n",
    "resize()"
   ]
  },
  {
   "cell_type": "code",
   "execution_count": 8,
   "metadata": {},
   "outputs": [],
   "source": [
    "anch = [read(os.path.join(path, filename)) for filename in os.listdir(path)]\n",
    "anch_array = np.array(anch, dtype='uint8')"
   ]
  },
  {
   "cell_type": "code",
   "execution_count": 9,
   "metadata": {},
   "outputs": [
    {
     "data": {
      "text/plain": [
       "array([[[254, 255, 255, ..., 255, 255, 255],\n",
       "        [254, 255, 255, ..., 255, 255, 255],\n",
       "        [255, 255, 255, ..., 255, 255, 255],\n",
       "        ...,\n",
       "        [255, 255, 255, ..., 255, 255, 255],\n",
       "        [255, 255, 255, ..., 255, 255, 255],\n",
       "        [255, 255, 255, ..., 255, 255, 255]],\n",
       "\n",
       "       [[254, 254, 254, ..., 253, 255, 255],\n",
       "        [254, 254, 254, ..., 253, 255, 255],\n",
       "        [254, 254, 254, ..., 253, 255, 255],\n",
       "        ...,\n",
       "        [255, 255, 255, ..., 255, 255, 255],\n",
       "        [255, 255, 255, ..., 255, 255, 255],\n",
       "        [255, 255, 255, ..., 255, 255, 255]],\n",
       "\n",
       "       [[254, 254, 254, ..., 253, 255, 255],\n",
       "        [254, 254, 254, ..., 253, 255, 255],\n",
       "        [254, 254, 254, ..., 253, 255, 255],\n",
       "        ...,\n",
       "        [254, 254, 255, ..., 255, 255, 255],\n",
       "        [254, 254, 254, ..., 255, 255, 255],\n",
       "        [255, 254, 254, ..., 255, 255, 255]],\n",
       "\n",
       "       ...,\n",
       "\n",
       "       [[161, 159, 158, ..., 141, 138, 135],\n",
       "        [160, 159, 157, ..., 137, 133, 131],\n",
       "        [159, 157, 156, ..., 132, 129, 127],\n",
       "        ...,\n",
       "        [209, 208, 206, ..., 141, 142, 142],\n",
       "        [203, 202, 198, ..., 137, 138, 138],\n",
       "        [201, 197, 195, ..., 134, 136, 136]],\n",
       "\n",
       "       [[244, 244, 244, ..., 201, 200, 199],\n",
       "        [242, 241, 240, ..., 201, 200, 198],\n",
       "        [241, 240, 238, ..., 199, 198, 197],\n",
       "        ...,\n",
       "        [205, 203, 199, ..., 161, 159, 158],\n",
       "        [205, 203, 200, ..., 159, 156, 154],\n",
       "        [205, 203, 200, ..., 158, 154, 152]],\n",
       "\n",
       "       [[251, 255, 254, ..., 254, 255, 255],\n",
       "        [248, 250, 252, ..., 254, 255, 255],\n",
       "        [255, 250, 250, ..., 254, 255, 255],\n",
       "        ...,\n",
       "        [254, 254, 254, ..., 254, 254, 254],\n",
       "        [255, 255, 255, ..., 254, 254, 254],\n",
       "        [255, 255, 255, ..., 254, 254, 254]]], dtype=uint8)"
      ]
     },
     "execution_count": 9,
     "metadata": {},
     "output_type": "execute_result"
    }
   ],
   "source": [
    "anch_array"
   ]
  },
  {
   "cell_type": "code",
   "execution_count": 10,
   "metadata": {},
   "outputs": [
    {
     "data": {
      "text/plain": [
       "1029"
      ]
     },
     "execution_count": 10,
     "metadata": {},
     "output_type": "execute_result"
    }
   ],
   "source": [
    "len(anch_array)"
   ]
  },
  {
   "cell_type": "code",
   "execution_count": 11,
   "metadata": {},
   "outputs": [],
   "source": [
    "anch_labels = np.linspace(1, 1, 1029, dtype='uint8')"
   ]
  },
  {
   "cell_type": "code",
   "execution_count": 12,
   "metadata": {},
   "outputs": [],
   "source": [
    "path = \"/Users/Stacy Steed/Data/images/eye-bolt/\"\n",
    "dirs = os.listdir(path)\n",
    "\n",
    "def resize():\n",
    "    for item in dirs:\n",
    "        if os.path.isfile(path+item):\n",
    "            im = Image.open(path+item)\n",
    "            f, e = os.path.splitext(path+item)\n",
    "            imResize = im.resize((28,28), Image.ANTIALIAS)\n",
    "            imResize.save(f + '.jpg', 'JPEG', quality=90)\n",
    "\n",
    "resize()"
   ]
  },
  {
   "cell_type": "code",
   "execution_count": 13,
   "metadata": {},
   "outputs": [],
   "source": [
    "eb = [read(os.path.join(path, filename)) for filename in os.listdir(path)]\n",
    "eb_array = np.array(eb, dtype='uint8')"
   ]
  },
  {
   "cell_type": "code",
   "execution_count": 14,
   "metadata": {},
   "outputs": [
    {
     "data": {
      "text/plain": [
       "array([[[251, 252, 252, ..., 254, 254, 254],\n",
       "        [253, 249, 249, ..., 255, 255, 255],\n",
       "        [252, 253, 255, ..., 255, 255, 255],\n",
       "        ...,\n",
       "        [254, 254, 254, ..., 255, 255, 255],\n",
       "        [254, 254, 254, ..., 255, 255, 255],\n",
       "        [255, 255, 255, ..., 255, 255, 255]],\n",
       "\n",
       "       [[246, 251, 253, ..., 254, 254, 254],\n",
       "        [254, 253, 251, ..., 255, 255, 255],\n",
       "        [250, 249, 251, ..., 255, 255, 255],\n",
       "        ...,\n",
       "        [255, 255, 255, ..., 255, 255, 255],\n",
       "        [255, 255, 255, ..., 255, 255, 255],\n",
       "        [255, 255, 255, ..., 255, 255, 255]],\n",
       "\n",
       "       [[251, 252, 252, ..., 254, 254, 254],\n",
       "        [253, 249, 249, ..., 255, 255, 255],\n",
       "        [252, 253, 255, ..., 255, 255, 255],\n",
       "        ...,\n",
       "        [254, 254, 254, ..., 255, 255, 255],\n",
       "        [254, 254, 254, ..., 255, 255, 255],\n",
       "        [255, 255, 255, ..., 255, 255, 255]],\n",
       "\n",
       "       ...,\n",
       "\n",
       "       [[254, 254, 253, ..., 254, 254, 254],\n",
       "        [250, 252, 254, ..., 254, 254, 254],\n",
       "        [249, 254, 254, ..., 255, 255, 255],\n",
       "        ...,\n",
       "        [254, 254, 254, ..., 255, 255, 255],\n",
       "        [253, 254, 254, ..., 255, 255, 255],\n",
       "        [253, 253, 254, ..., 255, 255, 255]],\n",
       "\n",
       "       [[255, 255, 255, ..., 255, 255, 255],\n",
       "        [255, 255, 255, ..., 255, 255, 255],\n",
       "        [255, 255, 255, ..., 255, 255, 255],\n",
       "        ...,\n",
       "        [255, 255, 255, ..., 255, 255, 255],\n",
       "        [255, 255, 255, ..., 255, 255, 255],\n",
       "        [255, 255, 255, ..., 255, 255, 255]],\n",
       "\n",
       "       [[255, 255, 255, ..., 254, 254, 254],\n",
       "        [255, 255, 255, ..., 254, 253, 253],\n",
       "        [255, 255, 255, ..., 255, 255, 254],\n",
       "        ...,\n",
       "        [254, 254, 254, ..., 255, 255, 255],\n",
       "        [254, 254, 254, ..., 255, 255, 255],\n",
       "        [254, 254, 254, ..., 255, 255, 255]]], dtype=uint8)"
      ]
     },
     "execution_count": 14,
     "metadata": {},
     "output_type": "execute_result"
    }
   ],
   "source": [
    "eb_array"
   ]
  },
  {
   "cell_type": "code",
   "execution_count": 15,
   "metadata": {},
   "outputs": [
    {
     "data": {
      "text/plain": [
       "1000"
      ]
     },
     "execution_count": 15,
     "metadata": {},
     "output_type": "execute_result"
    }
   ],
   "source": [
    "len(eb_array)"
   ]
  },
  {
   "cell_type": "code",
   "execution_count": 16,
   "metadata": {},
   "outputs": [],
   "source": [
    "eb_labels = np.linspace(2, 2, 1000, dtype='uint8')"
   ]
  },
  {
   "cell_type": "code",
   "execution_count": 17,
   "metadata": {},
   "outputs": [],
   "source": [
    "path = \"/Users/Stacy Steed/Data/images/extruded-u-nut/\"\n",
    "dirs = os.listdir(path)\n",
    "\n",
    "def resize():\n",
    "    for item in dirs:\n",
    "        if os.path.isfile(path+item):\n",
    "            im = Image.open(path+item)\n",
    "            f, e = os.path.splitext(path+item)\n",
    "            imResize = im.resize((28,28), Image.ANTIALIAS)\n",
    "            imResize.save(f + '.jpg', 'JPEG', quality=90)\n",
    "\n",
    "resize()"
   ]
  },
  {
   "cell_type": "code",
   "execution_count": 18,
   "metadata": {},
   "outputs": [],
   "source": [
    "un = [read(os.path.join(path, filename)) for filename in os.listdir(path)]\n",
    "un_array = np.array(un, dtype='uint8')"
   ]
  },
  {
   "cell_type": "code",
   "execution_count": 19,
   "metadata": {},
   "outputs": [
    {
     "data": {
      "text/plain": [
       "array([[[255, 255, 255, ..., 255, 255, 255],\n",
       "        [255, 255, 255, ..., 255, 255, 255],\n",
       "        [255, 255, 255, ..., 255, 255, 255],\n",
       "        ...,\n",
       "        [255, 255, 255, ..., 255, 255, 255],\n",
       "        [255, 255, 255, ..., 255, 255, 255],\n",
       "        [255, 255, 255, ..., 255, 255, 255]],\n",
       "\n",
       "       [[254, 254, 254, ..., 253, 253, 253],\n",
       "        [254, 254, 254, ..., 253, 253, 253],\n",
       "        [254, 254, 254, ..., 255, 254, 254],\n",
       "        ...,\n",
       "        [254, 254, 254, ..., 253, 254, 254],\n",
       "        [254, 254, 254, ..., 254, 254, 254],\n",
       "        [254, 254, 254, ..., 255, 255, 255]],\n",
       "\n",
       "       [[247, 248, 255, ..., 254, 251, 241],\n",
       "        [255, 249, 251, ..., 252, 255, 255],\n",
       "        [246, 250, 255, ..., 244, 255, 255],\n",
       "        ...,\n",
       "        [255, 255, 255, ..., 255, 255, 255],\n",
       "        [255, 255, 255, ..., 255, 255, 255],\n",
       "        [255, 255, 255, ..., 255, 255, 255]],\n",
       "\n",
       "       ...,\n",
       "\n",
       "       [[  0,   0,   0, ...,   0,   0,   0],\n",
       "        [  0,   0,   1, ...,   0,   0,   0],\n",
       "        [  1,   1,   1, ...,   0,   0,   0],\n",
       "        ...,\n",
       "        [  0,   0,   0, ...,   0,   0,   0],\n",
       "        [  0,   0,   0, ...,   0,   0,   0],\n",
       "        [  0,   0,   0, ...,   0,   0,   0]],\n",
       "\n",
       "       [[  2,   2,   1, ...,   0,   0,   0],\n",
       "        [  2,   2,   0, ...,   0,   0,   0],\n",
       "        [  1,   1,   0, ...,   0,   0,   0],\n",
       "        ...,\n",
       "        [  1,   1,   0, ...,   1,   1,   0],\n",
       "        [  1,   1,   0, ...,   1,   1,   0],\n",
       "        [  1,   1,   0, ...,   1,   1,   0]],\n",
       "\n",
       "       [[  3,   3,   2, ...,   0,   0,   0],\n",
       "        [  3,   3,   3, ...,   0,   0,   0],\n",
       "        [  3,   2,   2, ...,   0,   0,   0],\n",
       "        ...,\n",
       "        [  4,   1,   1, ...,   0,   0,   0],\n",
       "        [  3,   1,   2, ...,   0,   0,   0],\n",
       "        [  2,   1,   3, ...,   0,   0,   0]]], dtype=uint8)"
      ]
     },
     "execution_count": 19,
     "metadata": {},
     "output_type": "execute_result"
    }
   ],
   "source": [
    "un_array"
   ]
  },
  {
   "cell_type": "code",
   "execution_count": 20,
   "metadata": {},
   "outputs": [
    {
     "data": {
      "text/plain": [
       "1057"
      ]
     },
     "execution_count": 20,
     "metadata": {},
     "output_type": "execute_result"
    }
   ],
   "source": [
    "len(un_array)"
   ]
  },
  {
   "cell_type": "code",
   "execution_count": 21,
   "metadata": {},
   "outputs": [],
   "source": [
    "un_labels = np.linspace(3, 3, 1057, dtype='uint8')"
   ]
  },
  {
   "cell_type": "code",
   "execution_count": 22,
   "metadata": {},
   "outputs": [],
   "source": [
    "path = \"/Users/Stacy Steed/Data/images/jack-nut/\"\n",
    "dirs = os.listdir(path)\n",
    "\n",
    "def resize():\n",
    "    for item in dirs:\n",
    "        if os.path.isfile(path+item):\n",
    "            im = Image.open(path+item)\n",
    "            f, e = os.path.splitext(path+item)\n",
    "            imResize = im.resize((28,28), Image.ANTIALIAS)\n",
    "            imResize.save(f + '.jpg', 'JPEG', quality=90)\n",
    "\n",
    "resize()"
   ]
  },
  {
   "cell_type": "code",
   "execution_count": 23,
   "metadata": {},
   "outputs": [],
   "source": [
    "jn = [read(os.path.join(path, filename)) for filename in os.listdir(path)]\n",
    "jn_array = np.array(jn, dtype='uint8')"
   ]
  },
  {
   "cell_type": "code",
   "execution_count": 24,
   "metadata": {},
   "outputs": [
    {
     "data": {
      "text/plain": [
       "array([[[0, 0, 0, ..., 0, 0, 0],\n",
       "        [0, 0, 0, ..., 0, 0, 0],\n",
       "        [0, 0, 0, ..., 0, 0, 0],\n",
       "        ...,\n",
       "        [0, 0, 1, ..., 0, 0, 0],\n",
       "        [0, 0, 1, ..., 0, 0, 0],\n",
       "        [0, 0, 1, ..., 0, 0, 0]],\n",
       "\n",
       "       [[0, 1, 0, ..., 0, 0, 0],\n",
       "        [0, 1, 0, ..., 0, 0, 0],\n",
       "        [0, 1, 0, ..., 0, 0, 0],\n",
       "        ...,\n",
       "        [0, 0, 1, ..., 0, 0, 0],\n",
       "        [0, 0, 2, ..., 0, 0, 0],\n",
       "        [1, 0, 2, ..., 0, 0, 0]],\n",
       "\n",
       "       [[0, 2, 1, ..., 0, 0, 0],\n",
       "        [0, 2, 1, ..., 0, 0, 0],\n",
       "        [0, 2, 0, ..., 0, 0, 0],\n",
       "        ...,\n",
       "        [0, 0, 0, ..., 0, 0, 0],\n",
       "        [0, 0, 0, ..., 0, 0, 0],\n",
       "        [0, 0, 0, ..., 0, 0, 0]],\n",
       "\n",
       "       ...,\n",
       "\n",
       "       [[0, 0, 0, ..., 1, 1, 1],\n",
       "        [0, 0, 0, ..., 1, 1, 1],\n",
       "        [0, 0, 0, ..., 1, 1, 1],\n",
       "        ...,\n",
       "        [2, 2, 1, ..., 0, 0, 0],\n",
       "        [1, 0, 1, ..., 0, 0, 0],\n",
       "        [1, 1, 2, ..., 0, 0, 0]],\n",
       "\n",
       "       [[2, 0, 1, ..., 1, 2, 2],\n",
       "        [1, 0, 1, ..., 1, 2, 2],\n",
       "        [1, 0, 1, ..., 1, 2, 2],\n",
       "        ...,\n",
       "        [1, 0, 0, ..., 0, 0, 0],\n",
       "        [1, 0, 0, ..., 0, 0, 0],\n",
       "        [0, 0, 0, ..., 0, 0, 0]],\n",
       "\n",
       "       [[2, 0, 1, ..., 1, 2, 2],\n",
       "        [1, 0, 1, ..., 1, 2, 2],\n",
       "        [1, 0, 1, ..., 1, 2, 2],\n",
       "        ...,\n",
       "        [0, 0, 0, ..., 0, 0, 0],\n",
       "        [0, 0, 0, ..., 0, 0, 0],\n",
       "        [0, 0, 0, ..., 0, 0, 0]]], dtype=uint8)"
      ]
     },
     "execution_count": 24,
     "metadata": {},
     "output_type": "execute_result"
    }
   ],
   "source": [
    "jn_array"
   ]
  },
  {
   "cell_type": "code",
   "execution_count": 25,
   "metadata": {},
   "outputs": [
    {
     "data": {
      "text/plain": [
       "1168"
      ]
     },
     "execution_count": 25,
     "metadata": {},
     "output_type": "execute_result"
    }
   ],
   "source": [
    "len(jn_array)"
   ]
  },
  {
   "cell_type": "code",
   "execution_count": 26,
   "metadata": {},
   "outputs": [],
   "source": [
    "jn_labels = np.linspace(4, 4, 1168, dtype='uint8')"
   ]
  },
  {
   "cell_type": "code",
   "execution_count": 27,
   "metadata": {},
   "outputs": [],
   "source": [
    "x = np.concatenate((cc_array, anch_array, eb_array, un_array, jn_array), axis=0)"
   ]
  },
  {
   "cell_type": "code",
   "execution_count": 28,
   "metadata": {},
   "outputs": [],
   "source": [
    "y = np.concatenate((cc_labels, anch_labels, eb_labels, un_labels, jn_labels), axis=0)"
   ]
  },
  {
   "cell_type": "code",
   "execution_count": 29,
   "metadata": {},
   "outputs": [],
   "source": [
    "# Use train_test_split to create the necessary training and test groups\n",
    "X_train, x2, y_train, y2 = train_test_split(x, y, test_size=0.36)\n",
    "X_val, X_test, y_val, y_test = train_test_split(x2, y2, test_size=0.5)"
   ]
  },
  {
   "cell_type": "code",
   "execution_count": 30,
   "metadata": {},
   "outputs": [
    {
     "name": "stdout",
     "output_type": "stream",
     "text": [
      "3329\n",
      "937\n",
      "936\n",
      "3329\n",
      "937\n",
      "936\n"
     ]
    }
   ],
   "source": [
    "print(len(X_train))\n",
    "print(len(X_test))\n",
    "print(len(X_val))\n",
    "print(len(y_train))\n",
    "print(len(y_test))\n",
    "print(len(y_val))"
   ]
  },
  {
   "cell_type": "code",
   "execution_count": 31,
   "metadata": {},
   "outputs": [],
   "source": [
    "np.save('X-train.npy', X_train)\n",
    "np.save('y-train.npy', y_train)\n",
    "np.save('X-test.npy', X_test)\n",
    "np.save('y-test.npy', y_test)\n",
    "np.save('X-val.npy', X_val)\n",
    "np.save('y-val.npy', y_val)"
   ]
  },
  {
   "cell_type": "code",
   "execution_count": null,
   "metadata": {},
   "outputs": [],
   "source": []
  }
 ],
 "metadata": {
  "kernelspec": {
   "display_name": "Python 3",
   "language": "python",
   "name": "python3"
  },
  "language_info": {
   "codemirror_mode": {
    "name": "ipython",
    "version": 3
   },
   "file_extension": ".py",
   "mimetype": "text/x-python",
   "name": "python",
   "nbconvert_exporter": "python",
   "pygments_lexer": "ipython3",
   "version": "3.6.5"
  }
 },
 "nbformat": 4,
 "nbformat_minor": 2
}
